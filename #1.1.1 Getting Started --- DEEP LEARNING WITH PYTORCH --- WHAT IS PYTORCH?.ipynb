{
 "cells": [
  {
   "cell_type": "markdown",
   "metadata": {},
   "source": [
    "It's a Python-based scientific computing package targeted at two sets of audiences:\n",
    "   * a replacement for Numpy to use the power of GPUs\n",
    "   * a deep learning research platform that provides maximum flexibility and speed"
   ]
  },
  {
   "cell_type": "markdown",
   "metadata": {},
   "source": [
    "# Getting Started\n",
    "\n",
    "## Tensors\n",
    "\n",
    "Tensors are similiar to Numpy's ndarrays, with the addition being that Tensors can also be used on a GPU to accelerate computing."
   ]
  },
  {
   "cell_type": "code",
   "execution_count": 1,
   "metadata": {},
   "outputs": [],
   "source": [
    "import torch"
   ]
  },
  {
   "cell_type": "markdown",
   "metadata": {},
   "source": [
    "* Note \n",
    "\n",
    "   An uninitialized matrix is declared, but does not contain definite known values before it is used. When an uninitialized matrix is created, whatever values were in the allocated memory at the time will appear as the initial values.\n",
    "   \n",
    "Construct a 5x3 matrix, uninitialized:"
   ]
  },
  {
   "cell_type": "code",
   "execution_count": 2,
   "metadata": {},
   "outputs": [
    {
     "name": "stdout",
     "output_type": "stream",
     "text": [
      "tensor([[2.7517e+12, 7.5338e+28, 3.0313e+32],\n",
      "        [6.3828e+28, 1.4603e-19, 1.0899e+27],\n",
      "        [6.8943e+34, 1.1835e+22, 7.0976e+22],\n",
      "        [1.8515e+28, 4.1988e+07, 3.0357e+32],\n",
      "        [2.7224e+20, 7.7782e+31, 4.7429e+30]])\n"
     ]
    }
   ],
   "source": [
    "x = torch.empty(5, 3)\n",
    "print(x)"
   ]
  },
  {
   "cell_type": "markdown",
   "metadata": {},
   "source": [
    "Construct a randomly initialized matrix:"
   ]
  },
  {
   "cell_type": "code",
   "execution_count": 3,
   "metadata": {},
   "outputs": [
    {
     "name": "stdout",
     "output_type": "stream",
     "text": [
      "tensor([[0.7653, 0.0161, 0.3200],\n",
      "        [0.3272, 0.3065, 0.0430],\n",
      "        [0.7627, 0.1586, 0.7239],\n",
      "        [0.4871, 0.5731, 0.9479],\n",
      "        [0.5558, 0.2342, 0.6044]])\n"
     ]
    }
   ],
   "source": [
    "x = torch.rand(5, 3)\n",
    "print(x)"
   ]
  },
  {
   "cell_type": "markdown",
   "metadata": {},
   "source": [
    "Construct a matrix filled zeros and of dtype long:"
   ]
  },
  {
   "cell_type": "code",
   "execution_count": 5,
   "metadata": {},
   "outputs": [
    {
     "name": "stdout",
     "output_type": "stream",
     "text": [
      "tensor([[0, 0, 0],\n",
      "        [0, 0, 0],\n",
      "        [0, 0, 0],\n",
      "        [0, 0, 0],\n",
      "        [0, 0, 0]])\n"
     ]
    }
   ],
   "source": [
    "x = torch.zeros(5, 3, dtype=torch.long)\n",
    "print(x)"
   ]
  },
  {
   "cell_type": "markdown",
   "metadata": {},
   "source": [
    "Construct a tensor directly from data:"
   ]
  },
  {
   "cell_type": "code",
   "execution_count": 9,
   "metadata": {},
   "outputs": [
    {
     "name": "stdout",
     "output_type": "stream",
     "text": [
      "tensor([5, 3])\n",
      "tensor([5, 3])\n"
     ]
    }
   ],
   "source": [
    "x = torch.tensor([5, 3])\n",
    "print(x)\n",
    "\n",
    "import numpy as np\n",
    "x = torch.from_numpy(np.array([5, 3]))\n",
    "print(x)"
   ]
  },
  {
   "cell_type": "markdown",
   "metadata": {},
   "source": [
    "or create a tensor based on an existing tensor. These methods will reuse properties of the input tensor, e.g. dtype, unless new values are provided by user"
   ]
  },
  {
   "cell_type": "code",
   "execution_count": 10,
   "metadata": {},
   "outputs": [
    {
     "name": "stdout",
     "output_type": "stream",
     "text": [
      "tensor([[1., 1., 1.],\n",
      "        [1., 1., 1.],\n",
      "        [1., 1., 1.],\n",
      "        [1., 1., 1.],\n",
      "        [1., 1., 1.]], dtype=torch.float64)\n",
      "tensor([[ 0.9151,  1.4192, -0.8819],\n",
      "        [-0.5248,  0.4762, -0.2422],\n",
      "        [ 1.2609, -0.2316, -1.2126],\n",
      "        [-0.0180,  0.5316, -1.8198],\n",
      "        [-0.9683, -0.1153, -0.6758]], dtype=torch.float64)\n"
     ]
    }
   ],
   "source": [
    "x = x.new_ones(5, 3, dtype = torch.double)\n",
    "print(x)\n",
    "\n",
    "x = torch.randn_like(x, dtype=torch.double)\n",
    "print(x)"
   ]
  },
  {
   "cell_type": "markdown",
   "metadata": {},
   "source": [
    "Get its size:"
   ]
  },
  {
   "cell_type": "code",
   "execution_count": 12,
   "metadata": {},
   "outputs": [
    {
     "name": "stdout",
     "output_type": "stream",
     "text": [
      "torch.Size([5, 3])\n"
     ]
    }
   ],
   "source": [
    "print(x.size())"
   ]
  },
  {
   "cell_type": "markdown",
   "metadata": {},
   "source": [
    "* Note\n",
    "\n",
    "   *torch.Size* is in fact a tuple, so it supports all tuple operations.\n",
    "   \n",
    "## Operations\n",
    "\n",
    "There are multiple syntaxes for operations. In the following example, we will take a look at the addition operation.\n",
    "\n",
    "Addition: syntax 1"
   ]
  },
  {
   "cell_type": "code",
   "execution_count": 14,
   "metadata": {},
   "outputs": [
    {
     "name": "stdout",
     "output_type": "stream",
     "text": [
      "tensor([[ 1.0927,  1.9494, -0.3493],\n",
      "        [ 0.0851,  1.1857, -0.0265],\n",
      "        [ 1.5745,  0.6357, -1.0777],\n",
      "        [ 0.4108,  0.8239, -1.2058],\n",
      "        [-0.7224,  0.5053, -0.2948]], dtype=torch.float64)\n"
     ]
    }
   ],
   "source": [
    "y = torch.rand(5, 3, dtype=torch.double)\n",
    "print(x + y)"
   ]
  },
  {
   "cell_type": "markdown",
   "metadata": {},
   "source": [
    "Addition: syntax 2"
   ]
  },
  {
   "cell_type": "code",
   "execution_count": 15,
   "metadata": {},
   "outputs": [
    {
     "name": "stdout",
     "output_type": "stream",
     "text": [
      "tensor([[ 1.0927,  1.9494, -0.3493],\n",
      "        [ 0.0851,  1.1857, -0.0265],\n",
      "        [ 1.5745,  0.6357, -1.0777],\n",
      "        [ 0.4108,  0.8239, -1.2058],\n",
      "        [-0.7224,  0.5053, -0.2948]], dtype=torch.float64)\n"
     ]
    }
   ],
   "source": [
    "print(torch.add(x, y))"
   ]
  },
  {
   "cell_type": "markdown",
   "metadata": {},
   "source": [
    "Addition: providing an output tensor as argument"
   ]
  },
  {
   "cell_type": "code",
   "execution_count": 16,
   "metadata": {},
   "outputs": [
    {
     "name": "stdout",
     "output_type": "stream",
     "text": [
      "tensor([[ 1.0927,  1.9494, -0.3493],\n",
      "        [ 0.0851,  1.1857, -0.0265],\n",
      "        [ 1.5745,  0.6357, -1.0777],\n",
      "        [ 0.4108,  0.8239, -1.2058],\n",
      "        [-0.7224,  0.5053, -0.2948]], dtype=torch.float64)\n"
     ]
    }
   ],
   "source": [
    "z = torch.empty(5, 3, dtype=torch.double)\n",
    "torch.add(x, y, out=z)\n",
    "print(z)"
   ]
  },
  {
   "cell_type": "markdown",
   "metadata": {},
   "source": [
    "Addition: in-place"
   ]
  },
  {
   "cell_type": "code",
   "execution_count": 17,
   "metadata": {},
   "outputs": [
    {
     "name": "stdout",
     "output_type": "stream",
     "text": [
      "tensor([[ 1.0927,  1.9494, -0.3493],\n",
      "        [ 0.0851,  1.1857, -0.0265],\n",
      "        [ 1.5745,  0.6357, -1.0777],\n",
      "        [ 0.4108,  0.8239, -1.2058],\n",
      "        [-0.7224,  0.5053, -0.2948]], dtype=torch.float64)\n"
     ]
    }
   ],
   "source": [
    "y.add_(x)\n",
    "print(y)"
   ]
  },
  {
   "cell_type": "markdown",
   "metadata": {},
   "source": [
    "* Note\n",
    "\n",
    "   Any operation that mutates a tensor in-place is post-fixed with an \\_.\n",
    "   For example: *x.copy_(y)*, *x.t_()*, will change *x*.\n",
    "   \n",
    "You can use standard NumPy-like indexing with all bells and whistles!"
   ]
  },
  {
   "cell_type": "code",
   "execution_count": 18,
   "metadata": {},
   "outputs": [
    {
     "name": "stdout",
     "output_type": "stream",
     "text": [
      "tensor([ 1.0927,  1.9494, -0.3493], dtype=torch.float64)\n",
      "tensor([1.9494, 1.1857, 0.6357, 0.8239, 0.5053], dtype=torch.float64)\n"
     ]
    }
   ],
   "source": [
    "print(y[0])\n",
    "print(y[:, 1])"
   ]
  },
  {
   "cell_type": "markdown",
   "metadata": {},
   "source": [
    "Resizing: If you want to resize/reshape tensor, you can use *torch.view*:"
   ]
  },
  {
   "cell_type": "code",
   "execution_count": 19,
   "metadata": {},
   "outputs": [
    {
     "name": "stdout",
     "output_type": "stream",
     "text": [
      "torch.Size([4, 4]) torch.Size([16]) torch.Size([2, 8])\n"
     ]
    }
   ],
   "source": [
    "x = torch.randn(4, 4)\n",
    "y = x.view(16)\n",
    "z = x.view(-1, 8)\n",
    "print(x.shape, y.size(), z.size())"
   ]
  },
  {
   "cell_type": "markdown",
   "metadata": {},
   "source": [
    "If you have a one element tensor, use *.item()* to get the value as a Python number"
   ]
  },
  {
   "cell_type": "code",
   "execution_count": 21,
   "metadata": {},
   "outputs": [
    {
     "name": "stdout",
     "output_type": "stream",
     "text": [
      "tensor([[-1.1985, -0.3460, -1.4693,  0.8942],\n",
      "        [ 0.1433,  0.0478, -0.0407,  0.7209],\n",
      "        [-1.8723, -1.1513,  0.1680, -0.9314],\n",
      "        [-1.0251, -0.2872, -0.4302, -0.4451]])\n",
      "-1.1985353231430054\n"
     ]
    }
   ],
   "source": [
    "print(x)\n",
    "print(x[0][0].item())"
   ]
  },
  {
   "cell_type": "markdown",
   "metadata": {},
   "source": [
    "* Read later:\n",
    "\n",
    "   100+ Tensor operations, including transposing, indexing, slicing, mathematical operations, linear algebra, random numbers, etc., are described [here](https://pytorch.org/docs/torch).\n",
    "  \n",
    "## NumPy Bridge\n",
    "\n",
    "Converting a Torch Tensor to a NumPy array and vice versa is a breeze.\n",
    "\n",
    "The Torch Tensor and NumPy array will share their underlying memory locations (if the Torch Tensor is on CPU), and changing one will change the other.\n",
    "\n",
    "### Converting a Torch Tensor to a NumPy Array"
   ]
  },
  {
   "cell_type": "code",
   "execution_count": 22,
   "metadata": {},
   "outputs": [
    {
     "name": "stdout",
     "output_type": "stream",
     "text": [
      "tensor([[[1., 1., 1., 1.],\n",
      "         [1., 1., 1., 1.],\n",
      "         [1., 1., 1., 1.]],\n",
      "\n",
      "        [[1., 1., 1., 1.],\n",
      "         [1., 1., 1., 1.],\n",
      "         [1., 1., 1., 1.]]])\n",
      "[[[1. 1. 1. 1.]\n",
      "  [1. 1. 1. 1.]\n",
      "  [1. 1. 1. 1.]]\n",
      "\n",
      " [[1. 1. 1. 1.]\n",
      "  [1. 1. 1. 1.]\n",
      "  [1. 1. 1. 1.]]]\n"
     ]
    }
   ],
   "source": [
    "x = torch.ones([2, 3, 4])\n",
    "print(x)\n",
    "\n",
    "y = x.numpy()\n",
    "print(y)"
   ]
  },
  {
   "cell_type": "markdown",
   "metadata": {},
   "source": [
    "See how the numpy array changed in value."
   ]
  },
  {
   "cell_type": "code",
   "execution_count": 23,
   "metadata": {},
   "outputs": [
    {
     "name": "stdout",
     "output_type": "stream",
     "text": [
      "tensor([[[2., 2., 2., 2.],\n",
      "         [2., 2., 2., 2.],\n",
      "         [2., 2., 2., 2.]],\n",
      "\n",
      "        [[2., 2., 2., 2.],\n",
      "         [2., 2., 2., 2.],\n",
      "         [2., 2., 2., 2.]]])\n",
      "[[[2. 2. 2. 2.]\n",
      "  [2. 2. 2. 2.]\n",
      "  [2. 2. 2. 2.]]\n",
      "\n",
      " [[2. 2. 2. 2.]\n",
      "  [2. 2. 2. 2.]\n",
      "  [2. 2. 2. 2.]]]\n"
     ]
    }
   ],
   "source": [
    "x.add_(1)\n",
    "print(x)\n",
    "print(y)"
   ]
  },
  {
   "cell_type": "markdown",
   "metadata": {},
   "source": [
    "### Converting NumPy Array to Torch Tensor\n",
    "\n",
    "See how changing the np array changed the Torch Tensor automatically"
   ]
  },
  {
   "cell_type": "code",
   "execution_count": 27,
   "metadata": {},
   "outputs": [
    {
     "name": "stdout",
     "output_type": "stream",
     "text": [
      "[[[1. 1. 1. 1.]\n",
      "  [1. 1. 1. 1.]\n",
      "  [1. 1. 1. 1.]]\n",
      "\n",
      " [[1. 1. 1. 1.]\n",
      "  [1. 1. 1. 1.]\n",
      "  [1. 1. 1. 1.]]]\n",
      "tensor([[[1., 1., 1., 1.],\n",
      "         [1., 1., 1., 1.],\n",
      "         [1., 1., 1., 1.]],\n",
      "\n",
      "        [[1., 1., 1., 1.],\n",
      "         [1., 1., 1., 1.],\n",
      "         [1., 1., 1., 1.]]], dtype=torch.float64)\n",
      "[[[2. 2. 2. 2.]\n",
      "  [2. 2. 2. 2.]\n",
      "  [2. 2. 2. 2.]]\n",
      "\n",
      " [[2. 2. 2. 2.]\n",
      "  [2. 2. 2. 2.]\n",
      "  [2. 2. 2. 2.]]]\n",
      "tensor([[[2., 2., 2., 2.],\n",
      "         [2., 2., 2., 2.],\n",
      "         [2., 2., 2., 2.]],\n",
      "\n",
      "        [[2., 2., 2., 2.],\n",
      "         [2., 2., 2., 2.],\n",
      "         [2., 2., 2., 2.]]], dtype=torch.float64)\n",
      "[[[3. 3. 3. 3.]\n",
      "  [3. 3. 3. 3.]\n",
      "  [3. 3. 3. 3.]]\n",
      "\n",
      " [[3. 3. 3. 3.]\n",
      "  [3. 3. 3. 3.]\n",
      "  [3. 3. 3. 3.]]]\n",
      "tensor([[[2., 2., 2., 2.],\n",
      "         [2., 2., 2., 2.],\n",
      "         [2., 2., 2., 2.]],\n",
      "\n",
      "        [[2., 2., 2., 2.],\n",
      "         [2., 2., 2., 2.],\n",
      "         [2., 2., 2., 2.]]], dtype=torch.float64)\n"
     ]
    }
   ],
   "source": [
    "x = np.ones([2, 3, 4])\n",
    "print(x)\n",
    "\n",
    "y = torch.from_numpy(x)\n",
    "print(y)\n",
    "\n",
    "x = np.add(x, 1, out=x)\n",
    "print(x)\n",
    "print(y)\n",
    "\n",
    "x = np.add(x, 1)\n",
    "print(x)\n",
    "print(y)"
   ]
  },
  {
   "cell_type": "markdown",
   "metadata": {},
   "source": [
    "All the Tensors on the CPU except a CharTensor support converting to NumPy and back.\n",
    "\n",
    "### CUDA Tensors\n",
    "\n",
    "Tensors can be moved onto any device using the .to method."
   ]
  },
  {
   "cell_type": "code",
   "execution_count": 28,
   "metadata": {},
   "outputs": [
    {
     "name": "stdout",
     "output_type": "stream",
     "text": [
      "tensor([[1., 1., 1.],\n",
      "        [1., 1., 1.]], device='cuda:0')\n",
      "tensor([[1., 1., 1.],\n",
      "        [1., 1., 1.]], dtype=torch.float64)\n"
     ]
    }
   ],
   "source": [
    "x = torch.zeros([2, 3])\n",
    "\n",
    "if torch.cuda.is_available():\n",
    "    device = torch.device(\"cuda\")\n",
    "    y = torch.ones_like(x, device=device)\n",
    "    x = x.to(device)\n",
    "    z = x + y\n",
    "    print(z)\n",
    "    print(z.to(\"cpu\", torch.double))"
   ]
  },
  {
   "cell_type": "code",
   "execution_count": null,
   "metadata": {},
   "outputs": [],
   "source": []
  }
 ],
 "metadata": {
  "kernelspec": {
   "display_name": "Python 3",
   "language": "python",
   "name": "python3"
  },
  "language_info": {
   "codemirror_mode": {
    "name": "ipython",
    "version": 3
   },
   "file_extension": ".py",
   "mimetype": "text/x-python",
   "name": "python",
   "nbconvert_exporter": "python",
   "pygments_lexer": "ipython3",
   "version": "3.6.5"
  }
 },
 "nbformat": 4,
 "nbformat_minor": 2
}
